{
 "cells": [
  {
   "cell_type": "code",
   "execution_count": 1,
   "metadata": {},
   "outputs": [],
   "source": [
    "import numpy as np\n",
    "import nltk\n",
    "import unicodedata\n",
    "from collections import Counter\n",
    "import matplotlib.pylab as plt\n",
    "import pandas as pd"
   ]
  },
  {
   "cell_type": "code",
   "execution_count": 2,
   "metadata": {},
   "outputs": [],
   "source": [
    "#Abrir y leer texto\n",
    "file = open('Borges.txt', 'r')\n",
    "texto = file.read()"
   ]
  },
  {
   "cell_type": "code",
   "execution_count": 3,
   "metadata": {},
   "outputs": [],
   "source": [
    "#Cambio a minúscula\n",
    "texto = texto.lower()"
   ]
  },
  {
   "cell_type": "code",
   "execution_count": 4,
   "metadata": {},
   "outputs": [],
   "source": [
    "#Puntuación a quitar\n",
    "import string\n",
    "punctuation = string.punctuation+'¡'+'\"'+'¿'+'—'+'“'+'-'+'”'+'º'"
   ]
  },
  {
   "cell_type": "code",
   "execution_count": 5,
   "metadata": {},
   "outputs": [],
   "source": [
    "#Cambios que necesitan la puntuación como referencia\n",
    "cambios_punct = {'y ':'i ','y,':'i,','y.':'i.'}\n",
    "for key in cambios_punct.keys():\n",
    "    texto = texto.replace(key, cambios_punct[key])"
   ]
  },
  {
   "cell_type": "code",
   "execution_count": 6,
   "metadata": {},
   "outputs": [],
   "source": [
    "#Vector con palabras del texto\n",
    "#tokens = nltk.word_tokenize(texto)"
   ]
  },
  {
   "cell_type": "code",
   "execution_count": 7,
   "metadata": {},
   "outputs": [],
   "source": [
    "#libreria para ambio numerales a literales (opcional)\n",
    "#from num2words import num2words as n2w\n",
    "#n2w(word, to = 'year',lang = 'es')"
   ]
  },
  {
   "cell_type": "code",
   "execution_count": 8,
   "metadata": {},
   "outputs": [],
   "source": [
    "#Quito o cambio de números \n",
    "new_texto = []\n",
    "for word in tokens:\n",
    "    if word.isdigit():   #quito números o los convierto en literales\n",
    "        new_texto.append('')\n",
    "    else:\n",
    "        #eliminar puntuación\n",
    "        new_texto.append(word.strip(punctuation))"
   ]
  },
  {
   "cell_type": "code",
   "execution_count": 9,
   "metadata": {},
   "outputs": [],
   "source": [
    "#Diccionario artículo\n",
    "original = {'qu':'k', 'v':'b', 'x':'ks', 'z':'s','ch':'v','h':'','ce':'se','ci':'si','c':'k','j':'x','ge':'xe','gi':'xi','gue':'ge','gui':'gi','ll':'y',' r':' q','rr':'q','sr':'sq','nr':'nq','lr':'lq'}"
   ]
  },
  {
   "cell_type": "code",
   "execution_count": 10,
   "metadata": {},
   "outputs": [],
   "source": [
    "#Función cambio de letras por fonemas definidos en el diccionario \n",
    "def fonetizacion_simple(texto,dic):\n",
    "    change = []\n",
    "    for palabra in texto:\n",
    "        for key in dic.keys():\n",
    "            palabra  = palabra.replace(key,dic[key])\n",
    "        change.append(palabra)\n",
    "    return change"
   ]
  },
  {
   "cell_type": "code",
   "execution_count": 11,
   "metadata": {},
   "outputs": [],
   "source": [
    "#Función para eliminación de las diacríticas\n",
    "def elim_diacriticas(string):\n",
    "    matriz = []\n",
    "    for string in string:\n",
    "        forma = unicodedata.normalize('NFKD', string)\n",
    "        matriz.append(u\"\".join([letra for letra in forma if not unicodedata.combining(letra)]))\n",
    "    return matriz"
   ]
  },
  {
   "cell_type": "code",
   "execution_count": 12,
   "metadata": {},
   "outputs": [],
   "source": [
    "#Cambio carateres especiales y diacriticas y cuenta de cada letra\n",
    "def Cambios_Miscelaneos(texto): \n",
    "    x = []\n",
    "    for palabra in texto:            \n",
    "        palabra= palabra.replace('ñ','#')\n",
    "        #palabra= palabra.replace('í','&')\n",
    "        #palabra= palabra.replace('ü','%')\n",
    "        palabra = elim_diacriticas(palabra) #note que aquí llamamos a la función anterior\n",
    "        x.append(Counter(palabra))\n",
    "    return x"
   ]
  },
  {
   "cell_type": "code",
   "execution_count": 13,
   "metadata": {},
   "outputs": [],
   "source": [
    "phone_w1 = {'ua':'wa','au':'aw','eu':'ew','ue':'we','iu':'iw','ui':'wi','uo':'wo','ou':'ow'}\n",
    "def Fonetizacion_w(texto,dic):\n",
    "    change = []\n",
    "    for palabra in texto:\n",
    "        palabra = palabra.replace('ñ','#')\n",
    "        forma = unicodedata.normalize('NFKD', palabra)\n",
    "        palabra = u\"\".join([letra for letra in forma if not unicodedata.combining(letra)])\n",
    "        for key in dic.keys():\n",
    "            palabra  = palabra.replace(key,dic[key])\n",
    "        change.append(Counter(palabra))\n",
    "    return change"
   ]
  },
  {
   "cell_type": "code",
   "execution_count": 14,
   "metadata": {},
   "outputs": [],
   "source": [
    "phone_j = {'ia':'ja','ai':'aj','ei':'ej','ie':'je','io':'jo','oi':'oj','iu':'ju','ui':'uj'}\n",
    "phone_w2 = {'ua':'wa','au':'aw','eu':'ew','ue':'we','uo':'wo','ou':'ow','ju':'jw','uj':'wj'}\n",
    "def Fonetizacion_i(texto,dicw,dicj):\n",
    "    change = []\n",
    "    for palabra in texto:\n",
    "        palabra = palabra.replace('ñ','#')\n",
    "        forma = unicodedata.normalize('NFKD', palabra)\n",
    "        palabra= u\"\".join([letra for letra in forma if not unicodedata.combining(letra)])\n",
    "        for key in dicj.keys():\n",
    "            palabra = palabra.replace(key,dicj[key])\n",
    "        for key in dicw.keys():\n",
    "            palabra = palabra.replace(key,dicw[key])\n",
    "        change.append(Counter(palabra))\n",
    "    return change"
   ]
  },
  {
   "cell_type": "code",
   "execution_count": 15,
   "metadata": {},
   "outputs": [],
   "source": [
    "#Como se combinaran las fonetizaciones es necesario cambiar los diccionarios\n",
    "phone_w3 = {'ua':'wa','au':'aw','eu':'ew','ue':'we','uo':'wo','ou':'ow','ju':'jw','uj':'wj','ui':'wi','iu':'iw'}\n",
    "def Fonetizacion_i_diac(texto,dic_u,dic_j):\n",
    "    change = []\n",
    "    for palabra in texto:\n",
    "        palabra = palabra.replace('ñ','#')\n",
    "        for key in dic_j.keys():\n",
    "            palabra = palabra.replace(key,dic_j[key])\n",
    "        forma = unicodedata.normalize('NFKD', palabra)\n",
    "        palabra= u\"\".join([letra for letra in forma if not unicodedata.combining(letra)])\n",
    "        for key in dic_u.keys():\n",
    "            palabra = palabra.replace(key,dic_u[key])\n",
    "        change.append(Counter(palabra))\n",
    "    return change"
   ]
  },
  {
   "cell_type": "code",
   "execution_count": 16,
   "metadata": {},
   "outputs": [],
   "source": [
    "def Conteo_fonemas(Mis):\n",
    "    for i in range(0,len(Mis)):\n",
    "        if i == 0:\n",
    "            count = Mis[i]\n",
    "        else:\n",
    "            count = count + Mis[i]\n",
    "    return count"
   ]
  },
  {
   "cell_type": "code",
   "execution_count": 17,
   "metadata": {},
   "outputs": [],
   "source": [
    "#Algunos caracteres que no se quitaron\n",
    "malos = ['¿','—','“','-','”','¡','1','2','5','6','7','8','0','º','9','4','3','«','»','.','–','’','...']"
   ]
  },
  {
   "cell_type": "code",
   "execution_count": 18,
   "metadata": {},
   "outputs": [],
   "source": [
    "def Grafica(count):\n",
    "    #Convierto a DataFrame\n",
    "    Data = pd.DataFrame.from_dict(count, orient='index', columns = ['Frecuencia'])\n",
    "    #Calculo de Frecuencia Fraccional\n",
    "    Data['Fraccional'] = Data['Frecuencia']/sum(Data['Frecuencia'])\n",
    "    Data = Data.sort_values(by = 'Fraccional', ascending = False)\n",
    "    #Gráfica\n",
    "    fig = plt.figure(figsize = (7,5.5))\n",
    "    plt.plot(Data['Fraccional'], 'mo')\n",
    "    plt.show()\n",
    "    return fig, Data"
   ]
  },
  {
   "cell_type": "code",
   "execution_count": 19,
   "metadata": {
    "scrolled": true
   },
   "outputs": [
    {
     "data": {
      "image/png": "[encoded data removed]",
      "text/plain": [
       "<Figure size 504x396 with 1 Axes>"
      ]
     },
     "metadata": {
      "needs_background": "light"
     },
     "output_type": "display_data"
    }
   ],
   "source": [
    "#Procesamiento para Figura Fonetización Simple\n",
    "f1_a = fonetizacion_simple(new_texto,original)\n",
    "f1_b = Cambios_Miscelaneos(f1_a)\n",
    "f1_c =Conteo_fonemas(f1_b)\n",
    "for i in malos:\n",
    "    del f1_c[i]\n",
    "f1, data1 = Grafica(f1_c)"
   ]
  },
  {
   "cell_type": "code",
   "execution_count": 20,
   "metadata": {},
   "outputs": [
    {
     "data": {
      "image/png": "[encoded data removed]",
      "text/plain": [
       "<Figure size 504x396 with 1 Axes>"
      ]
     },
     "metadata": {
      "needs_background": "light"
     },
     "output_type": "display_data"
    }
   ],
   "source": [
    "#Procesamiento para Figura 2, No fonetización\n",
    "f2_a = Cambios_Miscelaneos(new_texto)\n",
    "f2_b =Conteo_fonemas(f2_a)\n",
    "for i in malos:\n",
    "    del f2_b[i]\n",
    "f2, data2 = Grafica(f2_b)"
   ]
  },
  {
   "cell_type": "code",
   "execution_count": 21,
   "metadata": {
    "scrolled": true
   },
   "outputs": [
    {
     "data": {
      "image/png": "[encoded data removed]",
      "text/plain": [
       "<Figure size 504x396 with 1 Axes>"
      ]
     },
     "metadata": {
      "needs_background": "light"
     },
     "output_type": "display_data"
    }
   ],
   "source": [
    "#Fonetizacion con /u/ y /w/ como fonemas diferentes\n",
    "f3_a = fonetizacion_simple(new_texto,original)\n",
    "f3_b=Fonetizacion_w(f3_a,phone_w1)\n",
    "f3_c =Conteo_fonemas(f3_b)\n",
    "for i in malos:\n",
    "    del f3_c[i]\n",
    "f3, data3 = Grafica(f3_c)"
   ]
  },
  {
   "cell_type": "code",
   "execution_count": 22,
   "metadata": {},
   "outputs": [
    {
     "data": {
      "text/html": [
       "<div>\n",
       "<style scoped>\n",
       "    .dataframe tbody tr th:only-of-type {\n",
       "        vertical-align: middle;\n",
       "    }\n",
       "\n",
       "    .dataframe tbody tr th {\n",
       "        vertical-align: top;\n",
       "    }\n",
       "\n",
       "    .dataframe thead th {\n",
       "        text-align: right;\n",
       "    }\n",
       "</style>\n",
       "<table border=\"1\" class=\"dataframe\">\n",
       "  <thead>\n",
       "    <tr style=\"text-align: right;\">\n",
       "      <th></th>\n",
       "      <th>Frecuencia</th>\n",
       "      <th>Fraccional</th>\n",
       "    </tr>\n",
       "  </thead>\n",
       "  <tbody>\n",
       "    <tr>\n",
       "      <th>e</th>\n",
       "      <td>2912</td>\n",
       "      <td>0.133688</td>\n",
       "    </tr>\n",
       "    <tr>\n",
       "      <th>a</th>\n",
       "      <td>2747</td>\n",
       "      <td>0.126113</td>\n",
       "    </tr>\n",
       "    <tr>\n",
       "      <th>o</th>\n",
       "      <td>2114</td>\n",
       "      <td>0.097053</td>\n",
       "    </tr>\n",
       "    <tr>\n",
       "      <th>s</th>\n",
       "      <td>1864</td>\n",
       "      <td>0.085575</td>\n",
       "    </tr>\n",
       "    <tr>\n",
       "      <th>i</th>\n",
       "      <td>1738</td>\n",
       "      <td>0.079791</td>\n",
       "    </tr>\n",
       "    <tr>\n",
       "      <th>n</th>\n",
       "      <td>1513</td>\n",
       "      <td>0.069461</td>\n",
       "    </tr>\n",
       "    <tr>\n",
       "      <th>r</th>\n",
       "      <td>1451</td>\n",
       "      <td>0.066615</td>\n",
       "    </tr>\n",
       "    <tr>\n",
       "      <th>l</th>\n",
       "      <td>1267</td>\n",
       "      <td>0.058167</td>\n",
       "    </tr>\n",
       "    <tr>\n",
       "      <th>d</th>\n",
       "      <td>1004</td>\n",
       "      <td>0.046093</td>\n",
       "    </tr>\n",
       "    <tr>\n",
       "      <th>t</th>\n",
       "      <td>943</td>\n",
       "      <td>0.043293</td>\n",
       "    </tr>\n",
       "    <tr>\n",
       "      <th>k</th>\n",
       "      <td>842</td>\n",
       "      <td>0.038656</td>\n",
       "    </tr>\n",
       "    <tr>\n",
       "      <th>b</th>\n",
       "      <td>706</td>\n",
       "      <td>0.032412</td>\n",
       "    </tr>\n",
       "    <tr>\n",
       "      <th>m</th>\n",
       "      <td>642</td>\n",
       "      <td>0.029474</td>\n",
       "    </tr>\n",
       "    <tr>\n",
       "      <th>p</th>\n",
       "      <td>575</td>\n",
       "      <td>0.026398</td>\n",
       "    </tr>\n",
       "    <tr>\n",
       "      <th>u</th>\n",
       "      <td>529</td>\n",
       "      <td>0.024286</td>\n",
       "    </tr>\n",
       "    <tr>\n",
       "      <th>g</th>\n",
       "      <td>219</td>\n",
       "      <td>0.010054</td>\n",
       "    </tr>\n",
       "    <tr>\n",
       "      <th>x</th>\n",
       "      <td>187</td>\n",
       "      <td>0.008585</td>\n",
       "    </tr>\n",
       "    <tr>\n",
       "      <th>f</th>\n",
       "      <td>173</td>\n",
       "      <td>0.007942</td>\n",
       "    </tr>\n",
       "    <tr>\n",
       "      <th>w</th>\n",
       "      <td>129</td>\n",
       "      <td>0.005922</td>\n",
       "    </tr>\n",
       "    <tr>\n",
       "      <th>y</th>\n",
       "      <td>97</td>\n",
       "      <td>0.004453</td>\n",
       "    </tr>\n",
       "    <tr>\n",
       "      <th>q</th>\n",
       "      <td>58</td>\n",
       "      <td>0.002663</td>\n",
       "    </tr>\n",
       "    <tr>\n",
       "      <th>v</th>\n",
       "      <td>42</td>\n",
       "      <td>0.001928</td>\n",
       "    </tr>\n",
       "    <tr>\n",
       "      <th>#</th>\n",
       "      <td>30</td>\n",
       "      <td>0.001377</td>\n",
       "    </tr>\n",
       "  </tbody>\n",
       "</table>\n",
       "</div>"
      ],
      "text/plain": [
       "   Frecuencia  Fraccional\n",
       "e        2912    0.133688\n",
       "a        2747    0.126113\n",
       "o        2114    0.097053\n",
       "s        1864    0.085575\n",
       "i        1738    0.079791\n",
       "n        1513    0.069461\n",
       "r        1451    0.066615\n",
       "l        1267    0.058167\n",
       "d        1004    0.046093\n",
       "t         943    0.043293\n",
       "k         842    0.038656\n",
       "b         706    0.032412\n",
       "m         642    0.029474\n",
       "p         575    0.026398\n",
       "u         529    0.024286\n",
       "g         219    0.010054\n",
       "x         187    0.008585\n",
       "f         173    0.007942\n",
       "w         129    0.005922\n",
       "y          97    0.004453\n",
       "q          58    0.002663\n",
       "v          42    0.001928\n",
       "#          30    0.001377"
      ]
     },
     "execution_count": 22,
     "metadata": {},
     "output_type": "execute_result"
    }
   ],
   "source": [
    "#Frecuencias de Figura3\n",
    "data3"
   ]
  },
  {
   "cell_type": "code",
   "execution_count": 23,
   "metadata": {},
   "outputs": [
    {
     "data": {
      "image/png": "[encoded data removed]",
      "text/plain": [
       "<Figure size 504x396 with 1 Axes>"
      ]
     },
     "metadata": {
      "needs_background": "light"
     },
     "output_type": "display_data"
    }
   ],
   "source": [
    "#Fonetizacion con (/u/&/w/) e (/i/&/j/) como fonemas diferentes\n",
    "f4_a = fonetizacion_simple(new_texto,original)\n",
    "f4_b=Fonetizacion_i(f4_a,phone_w2,phone_j)\n",
    "f4_c =Conteo_fonemas(f4_b)\n",
    "for i in malos:\n",
    "    del f4_c[i]\n",
    "f4, data4 = Grafica(f4_c)"
   ]
  },
  {
   "cell_type": "code",
   "execution_count": 24,
   "metadata": {},
   "outputs": [
    {
     "data": {
      "text/html": [
       "<div>\n",
       "<style scoped>\n",
       "    .dataframe tbody tr th:only-of-type {\n",
       "        vertical-align: middle;\n",
       "    }\n",
       "\n",
       "    .dataframe tbody tr th {\n",
       "        vertical-align: top;\n",
       "    }\n",
       "\n",
       "    .dataframe thead th {\n",
       "        text-align: right;\n",
       "    }\n",
       "</style>\n",
       "<table border=\"1\" class=\"dataframe\">\n",
       "  <thead>\n",
       "    <tr style=\"text-align: right;\">\n",
       "      <th></th>\n",
       "      <th>Frecuencia</th>\n",
       "      <th>Fraccional</th>\n",
       "    </tr>\n",
       "  </thead>\n",
       "  <tbody>\n",
       "    <tr>\n",
       "      <th>e</th>\n",
       "      <td>2912</td>\n",
       "      <td>0.133688</td>\n",
       "    </tr>\n",
       "    <tr>\n",
       "      <th>a</th>\n",
       "      <td>2747</td>\n",
       "      <td>0.126113</td>\n",
       "    </tr>\n",
       "    <tr>\n",
       "      <th>o</th>\n",
       "      <td>2114</td>\n",
       "      <td>0.097053</td>\n",
       "    </tr>\n",
       "    <tr>\n",
       "      <th>s</th>\n",
       "      <td>1864</td>\n",
       "      <td>0.085575</td>\n",
       "    </tr>\n",
       "    <tr>\n",
       "      <th>n</th>\n",
       "      <td>1513</td>\n",
       "      <td>0.069461</td>\n",
       "    </tr>\n",
       "    <tr>\n",
       "      <th>r</th>\n",
       "      <td>1451</td>\n",
       "      <td>0.066615</td>\n",
       "    </tr>\n",
       "    <tr>\n",
       "      <th>l</th>\n",
       "      <td>1267</td>\n",
       "      <td>0.058167</td>\n",
       "    </tr>\n",
       "    <tr>\n",
       "      <th>i</th>\n",
       "      <td>1209</td>\n",
       "      <td>0.055505</td>\n",
       "    </tr>\n",
       "    <tr>\n",
       "      <th>d</th>\n",
       "      <td>1004</td>\n",
       "      <td>0.046093</td>\n",
       "    </tr>\n",
       "    <tr>\n",
       "      <th>t</th>\n",
       "      <td>943</td>\n",
       "      <td>0.043293</td>\n",
       "    </tr>\n",
       "    <tr>\n",
       "      <th>k</th>\n",
       "      <td>842</td>\n",
       "      <td>0.038656</td>\n",
       "    </tr>\n",
       "    <tr>\n",
       "      <th>b</th>\n",
       "      <td>706</td>\n",
       "      <td>0.032412</td>\n",
       "    </tr>\n",
       "    <tr>\n",
       "      <th>m</th>\n",
       "      <td>642</td>\n",
       "      <td>0.029474</td>\n",
       "    </tr>\n",
       "    <tr>\n",
       "      <th>p</th>\n",
       "      <td>575</td>\n",
       "      <td>0.026398</td>\n",
       "    </tr>\n",
       "    <tr>\n",
       "      <th>j</th>\n",
       "      <td>529</td>\n",
       "      <td>0.024286</td>\n",
       "    </tr>\n",
       "    <tr>\n",
       "      <th>u</th>\n",
       "      <td>529</td>\n",
       "      <td>0.024286</td>\n",
       "    </tr>\n",
       "    <tr>\n",
       "      <th>g</th>\n",
       "      <td>219</td>\n",
       "      <td>0.010054</td>\n",
       "    </tr>\n",
       "    <tr>\n",
       "      <th>x</th>\n",
       "      <td>187</td>\n",
       "      <td>0.008585</td>\n",
       "    </tr>\n",
       "    <tr>\n",
       "      <th>f</th>\n",
       "      <td>173</td>\n",
       "      <td>0.007942</td>\n",
       "    </tr>\n",
       "    <tr>\n",
       "      <th>w</th>\n",
       "      <td>129</td>\n",
       "      <td>0.005922</td>\n",
       "    </tr>\n",
       "    <tr>\n",
       "      <th>y</th>\n",
       "      <td>97</td>\n",
       "      <td>0.004453</td>\n",
       "    </tr>\n",
       "    <tr>\n",
       "      <th>q</th>\n",
       "      <td>58</td>\n",
       "      <td>0.002663</td>\n",
       "    </tr>\n",
       "    <tr>\n",
       "      <th>v</th>\n",
       "      <td>42</td>\n",
       "      <td>0.001928</td>\n",
       "    </tr>\n",
       "    <tr>\n",
       "      <th>#</th>\n",
       "      <td>30</td>\n",
       "      <td>0.001377</td>\n",
       "    </tr>\n",
       "  </tbody>\n",
       "</table>\n",
       "</div>"
      ],
      "text/plain": [
       "   Frecuencia  Fraccional\n",
       "e        2912    0.133688\n",
       "a        2747    0.126113\n",
       "o        2114    0.097053\n",
       "s        1864    0.085575\n",
       "n        1513    0.069461\n",
       "r        1451    0.066615\n",
       "l        1267    0.058167\n",
       "i        1209    0.055505\n",
       "d        1004    0.046093\n",
       "t         943    0.043293\n",
       "k         842    0.038656\n",
       "b         706    0.032412\n",
       "m         642    0.029474\n",
       "p         575    0.026398\n",
       "j         529    0.024286\n",
       "u         529    0.024286\n",
       "g         219    0.010054\n",
       "x         187    0.008585\n",
       "f         173    0.007942\n",
       "w         129    0.005922\n",
       "y          97    0.004453\n",
       "q          58    0.002663\n",
       "v          42    0.001928\n",
       "#          30    0.001377"
      ]
     },
     "execution_count": 24,
     "metadata": {},
     "output_type": "execute_result"
    }
   ],
   "source": [
    "#Frecuencias Figura 4\n",
    "data4"
   ]
  },
  {
   "cell_type": "code",
   "execution_count": 25,
   "metadata": {},
   "outputs": [
    {
     "data": {
      "image/png": "[encoded data removed]",
      "text/plain": [
       "<Figure size 504x396 with 1 Axes>"
      ]
     },
     "metadata": {
      "needs_background": "light"
     },
     "output_type": "display_data"
    }
   ],
   "source": [
    "#Fonetizacion con (/u/&/w/) e (/i/&/j/) como fonemas diferentes tomando en cuenta diacríticas\n",
    "f5_a = fonetizacion_simple(new_texto,original)\n",
    "f5_b=Fonetizacion_i_diac(f5_a,phone_w3,phone_j)\n",
    "f5_c =Conteo_fonemas(f5_b)\n",
    "for i in malos:\n",
    "    del f5_c[i]\n",
    "f5, data5 = Grafica(f5_c)"
   ]
  },
  {
   "cell_type": "code",
   "execution_count": 26,
   "metadata": {},
   "outputs": [
    {
     "data": {
      "text/html": [
       "<div>\n",
       "<style scoped>\n",
       "    .dataframe tbody tr th:only-of-type {\n",
       "        vertical-align: middle;\n",
       "    }\n",
       "\n",
       "    .dataframe tbody tr th {\n",
       "        vertical-align: top;\n",
       "    }\n",
       "\n",
       "    .dataframe thead th {\n",
       "        text-align: right;\n",
       "    }\n",
       "</style>\n",
       "<table border=\"1\" class=\"dataframe\">\n",
       "  <thead>\n",
       "    <tr style=\"text-align: right;\">\n",
       "      <th></th>\n",
       "      <th>Frecuencia</th>\n",
       "      <th>Fraccional</th>\n",
       "    </tr>\n",
       "  </thead>\n",
       "  <tbody>\n",
       "    <tr>\n",
       "      <th>e</th>\n",
       "      <td>2912</td>\n",
       "      <td>0.133688</td>\n",
       "    </tr>\n",
       "    <tr>\n",
       "      <th>a</th>\n",
       "      <td>2747</td>\n",
       "      <td>0.126113</td>\n",
       "    </tr>\n",
       "    <tr>\n",
       "      <th>o</th>\n",
       "      <td>2114</td>\n",
       "      <td>0.097053</td>\n",
       "    </tr>\n",
       "    <tr>\n",
       "      <th>s</th>\n",
       "      <td>1864</td>\n",
       "      <td>0.085575</td>\n",
       "    </tr>\n",
       "    <tr>\n",
       "      <th>n</th>\n",
       "      <td>1513</td>\n",
       "      <td>0.069461</td>\n",
       "    </tr>\n",
       "    <tr>\n",
       "      <th>r</th>\n",
       "      <td>1451</td>\n",
       "      <td>0.066615</td>\n",
       "    </tr>\n",
       "    <tr>\n",
       "      <th>i</th>\n",
       "      <td>1418</td>\n",
       "      <td>0.065100</td>\n",
       "    </tr>\n",
       "    <tr>\n",
       "      <th>l</th>\n",
       "      <td>1267</td>\n",
       "      <td>0.058167</td>\n",
       "    </tr>\n",
       "    <tr>\n",
       "      <th>d</th>\n",
       "      <td>1004</td>\n",
       "      <td>0.046093</td>\n",
       "    </tr>\n",
       "    <tr>\n",
       "      <th>t</th>\n",
       "      <td>943</td>\n",
       "      <td>0.043293</td>\n",
       "    </tr>\n",
       "    <tr>\n",
       "      <th>k</th>\n",
       "      <td>842</td>\n",
       "      <td>0.038656</td>\n",
       "    </tr>\n",
       "    <tr>\n",
       "      <th>b</th>\n",
       "      <td>706</td>\n",
       "      <td>0.032412</td>\n",
       "    </tr>\n",
       "    <tr>\n",
       "      <th>m</th>\n",
       "      <td>642</td>\n",
       "      <td>0.029474</td>\n",
       "    </tr>\n",
       "    <tr>\n",
       "      <th>p</th>\n",
       "      <td>575</td>\n",
       "      <td>0.026398</td>\n",
       "    </tr>\n",
       "    <tr>\n",
       "      <th>u</th>\n",
       "      <td>529</td>\n",
       "      <td>0.024286</td>\n",
       "    </tr>\n",
       "    <tr>\n",
       "      <th>j</th>\n",
       "      <td>320</td>\n",
       "      <td>0.014691</td>\n",
       "    </tr>\n",
       "    <tr>\n",
       "      <th>g</th>\n",
       "      <td>219</td>\n",
       "      <td>0.010054</td>\n",
       "    </tr>\n",
       "    <tr>\n",
       "      <th>x</th>\n",
       "      <td>187</td>\n",
       "      <td>0.008585</td>\n",
       "    </tr>\n",
       "    <tr>\n",
       "      <th>f</th>\n",
       "      <td>173</td>\n",
       "      <td>0.007942</td>\n",
       "    </tr>\n",
       "    <tr>\n",
       "      <th>w</th>\n",
       "      <td>129</td>\n",
       "      <td>0.005922</td>\n",
       "    </tr>\n",
       "    <tr>\n",
       "      <th>y</th>\n",
       "      <td>97</td>\n",
       "      <td>0.004453</td>\n",
       "    </tr>\n",
       "    <tr>\n",
       "      <th>q</th>\n",
       "      <td>58</td>\n",
       "      <td>0.002663</td>\n",
       "    </tr>\n",
       "    <tr>\n",
       "      <th>v</th>\n",
       "      <td>42</td>\n",
       "      <td>0.001928</td>\n",
       "    </tr>\n",
       "    <tr>\n",
       "      <th>#</th>\n",
       "      <td>30</td>\n",
       "      <td>0.001377</td>\n",
       "    </tr>\n",
       "  </tbody>\n",
       "</table>\n",
       "</div>"
      ],
      "text/plain": [
       "   Frecuencia  Fraccional\n",
       "e        2912    0.133688\n",
       "a        2747    0.126113\n",
       "o        2114    0.097053\n",
       "s        1864    0.085575\n",
       "n        1513    0.069461\n",
       "r        1451    0.066615\n",
       "i        1418    0.065100\n",
       "l        1267    0.058167\n",
       "d        1004    0.046093\n",
       "t         943    0.043293\n",
       "k         842    0.038656\n",
       "b         706    0.032412\n",
       "m         642    0.029474\n",
       "p         575    0.026398\n",
       "u         529    0.024286\n",
       "j         320    0.014691\n",
       "g         219    0.010054\n",
       "x         187    0.008585\n",
       "f         173    0.007942\n",
       "w         129    0.005922\n",
       "y          97    0.004453\n",
       "q          58    0.002663\n",
       "v          42    0.001928\n",
       "#          30    0.001377"
      ]
     },
     "execution_count": 26,
     "metadata": {},
     "output_type": "execute_result"
    }
   ],
   "source": [
    "#Frecuencias figura 5\n",
    "data5"
   ]
  }
 ],
 "metadata": {
  "kernelspec": {
   "display_name": "Python 3",
   "language": "python",
   "name": "python3"
  },
  "language_info": {
   "codemirror_mode": {
    "name": "ipython",
    "version": 3
   },
   "file_extension": ".py",
   "mimetype": "text/x-python",
   "name": "python",
   "nbconvert_exporter": "python",
   "pygments_lexer": "ipython3",
   "version": "3.7.0"
  }
 },
 "nbformat": 4,
 "nbformat_minor": 2
}
